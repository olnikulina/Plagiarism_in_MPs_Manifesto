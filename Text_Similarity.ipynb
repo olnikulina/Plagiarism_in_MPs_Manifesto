{
 "cells": [
  {
   "cell_type": "markdown",
   "metadata": {},
   "source": [
    "The goal of the project is to check if Ukrainian politicians plagiarize each others manifesto. It consists of 3 parts:\n",
    "1. Web-scraping of all manifestors of candidates that was running for parlamentarian elections. \n",
    "2. Processing and extracting of text from files with manifestos.\n",
    "3. Analysis of the similarity of texts using the method of N-grams. "
   ]
  },
  {
   "cell_type": "markdown",
   "metadata": {},
   "source": [
    "#### Step 3. Analysis of the similarity of texts using the method of N-grams. "
   ]
  },
  {
   "cell_type": "code",
   "execution_count": 3,
   "metadata": {},
   "outputs": [],
   "source": [
    "import pandas as pd\n",
    "import numpy as np\n",
    "import re\n",
    "\n",
    "import matplotlib\n",
    "import matplotlib.pyplot as plt\n",
    "%matplotlib inline"
   ]
  },
  {
   "cell_type": "code",
   "execution_count": 4,
   "metadata": {
    "scrolled": true
   },
   "outputs": [],
   "source": [
    "programs = pd.read_csv('/home/olena/Desktop/parse_cvk_2019/programs/programs.csv', low_memory = False) \n",
    "cands = pd.read_csv('/home/olena/Desktop/parse_cvk_2019/programs/cands_info.csv', low_memory = False) "
   ]
  },
  {
   "cell_type": "code",
   "execution_count": 8,
   "metadata": {},
   "outputs": [],
   "source": [
    "# cleaning and preparing for merge\n",
    "programs['name'] = programs['name'].str.replace(r'changed_', '')\n",
    "programs['name'] = programs['name'].str.replace(r'–', '-')\n",
    "programs['txt'] = programs['txt'].str.replace('\\n','', regex=True)\n",
    "programs = programs.drop('Unnamed: 0', axis=1)"
   ]
  },
  {
   "cell_type": "code",
   "execution_count": 10,
   "metadata": {
    "scrolled": true
   },
   "outputs": [],
   "source": [
    "cands['Прізвище, ім`я та по батькові кандидата в депутати'] = cands['Прізвище, ім`я та по батькові кандидата в депутати'].replace(' ', '', regex=True)\n",
    "cands.rename(columns={'Прізвище, ім`я та по батькові кандидата в депутати':'ПІБ'}, inplace=True)\n",
    "\n",
    "cands = cands.drop('Unnamed: 0', axis=1)"
   ]
  },
  {
   "cell_type": "code",
   "execution_count": 14,
   "metadata": {
    "scrolled": true
   },
   "outputs": [
    {
     "data": {
      "text/html": [
       "<div>\n",
       "<style scoped>\n",
       "    .dataframe tbody tr th:only-of-type {\n",
       "        vertical-align: middle;\n",
       "    }\n",
       "\n",
       "    .dataframe tbody tr th {\n",
       "        vertical-align: top;\n",
       "    }\n",
       "\n",
       "    .dataframe thead th {\n",
       "        text-align: right;\n",
       "    }\n",
       "</style>\n",
       "<table border=\"1\" class=\"dataframe\">\n",
       "  <thead>\n",
       "    <tr style=\"text-align: right;\">\n",
       "      <th></th>\n",
       "      <th>ПІБ</th>\n",
       "      <th>Передвиборна програма</th>\n",
       "      <th>Основні відомості</th>\n",
       "      <th>Округ</th>\n",
       "      <th>Наявність(відсутність) заборгованості зі сплати аліментів</th>\n",
       "      <th>Дата та підстава скасування реєстрації кандидата</th>\n",
       "      <th>Дата реєстрації кандидатом</th>\n",
       "      <th>Висування</th>\n",
       "      <th>Область</th>\n",
       "    </tr>\n",
       "  </thead>\n",
       "  <tbody>\n",
       "    <tr>\n",
       "      <th>0</th>\n",
       "      <td>БевзСвітланаВолодимирівна</td>\n",
       "      <td>https://www.cvk.gov.ua/pls/vnd2019/showdocpf72...</td>\n",
       "      <td>народилася 4 листопада 1973 року в місті Вінни...</td>\n",
       "      <td>Одномандатний виборчий округ №11</td>\n",
       "      <td>-</td>\n",
       "      <td></td>\n",
       "      <td>20.06.2019</td>\n",
       "      <td>Самовисування</td>\n",
       "      <td>Вінницька область</td>\n",
       "    </tr>\n",
       "    <tr>\n",
       "      <th>1</th>\n",
       "      <td>ГижкоАндрійПетрович</td>\n",
       "      <td>https://www.cvk.gov.ua/pls/vnd2019/showdocpf72...</td>\n",
       "      <td>народився 27 червня 1978 року в місті Вінниці,...</td>\n",
       "      <td>Одномандатний виборчий округ №11</td>\n",
       "      <td>-</td>\n",
       "      <td></td>\n",
       "      <td>24.06.2019</td>\n",
       "      <td>Політична партія \"Європейська Солідарність\"</td>\n",
       "      <td>Вінницька область</td>\n",
       "    </tr>\n",
       "    <tr>\n",
       "      <th>2</th>\n",
       "      <td>ГорлачовІгорЯрославович</td>\n",
       "      <td>https://www.cvk.gov.ua/pls/vnd2019/showdocpf72...</td>\n",
       "      <td>народився 31 березня 1984 року в місті Вінниці...</td>\n",
       "      <td>Одномандатний виборчий округ №11</td>\n",
       "      <td>-</td>\n",
       "      <td></td>\n",
       "      <td>24.06.2019</td>\n",
       "      <td>Політична партія \"ОПОЗИЦІЙНА ПЛАТФОРМА – ЗА ЖИ...</td>\n",
       "      <td>Вінницька область</td>\n",
       "    </tr>\n",
       "    <tr>\n",
       "      <th>3</th>\n",
       "      <td>ДавиденкоГаннаВіталіївна</td>\n",
       "      <td>https://www.cvk.gov.ua/pls/vnd2019/showdocpf72...</td>\n",
       "      <td>народилася 24 травня 1983 року в місті Вінниці...</td>\n",
       "      <td>Одномандатний виборчий округ №11</td>\n",
       "      <td>-</td>\n",
       "      <td></td>\n",
       "      <td>24.06.2019</td>\n",
       "      <td>Самовисування</td>\n",
       "      <td>Вінницька область</td>\n",
       "    </tr>\n",
       "    <tr>\n",
       "      <th>4</th>\n",
       "      <td>КістіонВолодимирЄвсевійович</td>\n",
       "      <td>https://www.cvk.gov.ua/pls/vnd2019/showdocpf72...</td>\n",
       "      <td>народився 31 травня 1965 року в селі Довжок Ям...</td>\n",
       "      <td>Одномандатний виборчий округ №11</td>\n",
       "      <td>-</td>\n",
       "      <td></td>\n",
       "      <td>12.06.2019</td>\n",
       "      <td>Самовисування</td>\n",
       "      <td>Вінницька область</td>\n",
       "    </tr>\n",
       "  </tbody>\n",
       "</table>\n",
       "</div>"
      ],
      "text/plain": [
       "                           ПІБ  \\\n",
       "0    БевзСвітланаВолодимирівна   \n",
       "1          ГижкоАндрійПетрович   \n",
       "2      ГорлачовІгорЯрославович   \n",
       "3     ДавиденкоГаннаВіталіївна   \n",
       "4  КістіонВолодимирЄвсевійович   \n",
       "\n",
       "                               Передвиборна програма  \\\n",
       "0  https://www.cvk.gov.ua/pls/vnd2019/showdocpf72...   \n",
       "1  https://www.cvk.gov.ua/pls/vnd2019/showdocpf72...   \n",
       "2  https://www.cvk.gov.ua/pls/vnd2019/showdocpf72...   \n",
       "3  https://www.cvk.gov.ua/pls/vnd2019/showdocpf72...   \n",
       "4  https://www.cvk.gov.ua/pls/vnd2019/showdocpf72...   \n",
       "\n",
       "                                   Основні відомості  \\\n",
       "0  народилася 4 листопада 1973 року в місті Вінни...   \n",
       "1  народився 27 червня 1978 року в місті Вінниці,...   \n",
       "2  народився 31 березня 1984 року в місті Вінниці...   \n",
       "3  народилася 24 травня 1983 року в місті Вінниці...   \n",
       "4  народився 31 травня 1965 року в селі Довжок Ям...   \n",
       "\n",
       "                              Округ  \\\n",
       "0  Одномандатний виборчий округ №11   \n",
       "1  Одномандатний виборчий округ №11   \n",
       "2  Одномандатний виборчий округ №11   \n",
       "3  Одномандатний виборчий округ №11   \n",
       "4  Одномандатний виборчий округ №11   \n",
       "\n",
       "  Наявність(відсутність) заборгованості зі сплати аліментів  \\\n",
       "0                                                  -          \n",
       "1                                                  -          \n",
       "2                                                  -          \n",
       "3                                                  -          \n",
       "4                                                  -          \n",
       "\n",
       "  Дата та підстава скасування реєстрації кандидата Дата реєстрації кандидатом  \\\n",
       "0                                                                  20.06.2019   \n",
       "1                                                                  24.06.2019   \n",
       "2                                                                  24.06.2019   \n",
       "3                                                                  24.06.2019   \n",
       "4                                                                  12.06.2019   \n",
       "\n",
       "                                           Висування            Область  \n",
       "0                                      Самовисування  Вінницька область  \n",
       "1        Політична партія \"Європейська Солідарність\"  Вінницька область  \n",
       "2  Політична партія \"ОПОЗИЦІЙНА ПЛАТФОРМА – ЗА ЖИ...  Вінницька область  \n",
       "3                                      Самовисування  Вінницька область  \n",
       "4                                      Самовисування  Вінницька область  "
      ]
     },
     "execution_count": 14,
     "metadata": {},
     "output_type": "execute_result"
    }
   ],
   "source": [
    "cands.head()"
   ]
  },
  {
   "cell_type": "code",
   "execution_count": 16,
   "metadata": {},
   "outputs": [
    {
     "data": {
      "text/html": [
       "<div>\n",
       "<style scoped>\n",
       "    .dataframe tbody tr th:only-of-type {\n",
       "        vertical-align: middle;\n",
       "    }\n",
       "\n",
       "    .dataframe tbody tr th {\n",
       "        vertical-align: top;\n",
       "    }\n",
       "\n",
       "    .dataframe thead th {\n",
       "        text-align: right;\n",
       "    }\n",
       "</style>\n",
       "<table border=\"1\" class=\"dataframe\">\n",
       "  <thead>\n",
       "    <tr style=\"text-align: right;\">\n",
       "      <th></th>\n",
       "      <th>name</th>\n",
       "      <th>txt</th>\n",
       "      <th>url</th>\n",
       "    </tr>\n",
       "  </thead>\n",
       "  <tbody>\n",
       "    <tr>\n",
       "      <th>0</th>\n",
       "      <td>АбдуллаєвІджранЯгубогли</td>\n",
       "      <td>Передвиборча  програма  кандидата  на   у   на...</td>\n",
       "      <td>https://www.cvk.gov.ua/pls/vnd2019/showdocpf72...</td>\n",
       "    </tr>\n",
       "    <tr>\n",
       "      <th>1</th>\n",
       "      <td>АбрамовОлегГеннадійович</td>\n",
       "      <td>Передвиборна прогр...</td>\n",
       "      <td>https://www.cvk.gov.ua/pls/vnd2019/showdocpf72...</td>\n",
       "    </tr>\n",
       "    <tr>\n",
       "      <th>2</th>\n",
       "      <td>АбрамчукДмитроВалентинович</td>\n",
       "      <td>ПЕРЕДВИБОРНА ПРОГРАМА КАНДИДАТА В ДЕПУТАТИ ...</td>\n",
       "      <td>https://www.cvk.gov.ua/pls/vnd2019/showdocpf72...</td>\n",
       "    </tr>\n",
       "    <tr>\n",
       "      <th>3</th>\n",
       "      <td>АвраменкоОлексійСергійович</td>\n",
       "      <td>Передвиборча прогр...</td>\n",
       "      <td>https://www.cvk.gov.ua/pls/vnd2019/showdocpf72...</td>\n",
       "    </tr>\n",
       "    <tr>\n",
       "      <th>4</th>\n",
       "      <td>АврамчукДмитроВасильович</td>\n",
       "      <td>ПЕРЕДВИБОРНА ПРОГР...</td>\n",
       "      <td>https://www.cvk.gov.ua/pls/vnd2019/showdocpf72...</td>\n",
       "    </tr>\n",
       "  </tbody>\n",
       "</table>\n",
       "</div>"
      ],
      "text/plain": [
       "                         name  \\\n",
       "0     АбдуллаєвІджранЯгубогли   \n",
       "1     АбрамовОлегГеннадійович   \n",
       "2  АбрамчукДмитроВалентинович   \n",
       "3  АвраменкоОлексійСергійович   \n",
       "4    АврамчукДмитроВасильович   \n",
       "\n",
       "                                                 txt  \\\n",
       "0  Передвиборча  програма  кандидата  на   у   на...   \n",
       "1                              Передвиборна прогр...   \n",
       "2     ПЕРЕДВИБОРНА ПРОГРАМА КАНДИДАТА В ДЕПУТАТИ ...   \n",
       "3                              Передвиборча прогр...   \n",
       "4                              ПЕРЕДВИБОРНА ПРОГР...   \n",
       "\n",
       "                                                 url  \n",
       "0  https://www.cvk.gov.ua/pls/vnd2019/showdocpf72...  \n",
       "1  https://www.cvk.gov.ua/pls/vnd2019/showdocpf72...  \n",
       "2  https://www.cvk.gov.ua/pls/vnd2019/showdocpf72...  \n",
       "3  https://www.cvk.gov.ua/pls/vnd2019/showdocpf72...  \n",
       "4  https://www.cvk.gov.ua/pls/vnd2019/showdocpf72...  "
      ]
     },
     "execution_count": 16,
     "metadata": {},
     "output_type": "execute_result"
    }
   ],
   "source": [
    "programs.head()"
   ]
  },
  {
   "cell_type": "code",
   "execution_count": 17,
   "metadata": {
    "scrolled": true
   },
   "outputs": [],
   "source": [
    "programs_merged = pd.merge(programs, cands, how = 'left', left_on = ['name', 'url'], right_on = ['ПІБ', 'Передвиборна програма'])"
   ]
  },
  {
   "cell_type": "code",
   "execution_count": 18,
   "metadata": {},
   "outputs": [
    {
     "name": "stdout",
     "output_type": "stream",
     "text": [
      "<class 'pandas.core.frame.DataFrame'>\n",
      "Int64Index: 3205 entries, 0 to 3204\n",
      "Data columns (total 12 columns):\n",
      "name                                                         3205 non-null object\n",
      "txt                                                          3205 non-null object\n",
      "url                                                          3205 non-null object\n",
      "ПІБ                                                          3191 non-null object\n",
      "Передвиборна програма                                        3191 non-null object\n",
      "Основні відомості                                            3191 non-null object\n",
      "Округ                                                        3191 non-null object\n",
      "Наявність(відсутність) заборгованості зі сплати аліментів    3191 non-null object\n",
      "Дата та підстава скасування реєстрації кандидата             3191 non-null object\n",
      "Дата реєстрації кандидатом                                   3191 non-null object\n",
      "Висування                                                    3191 non-null object\n",
      "Область                                                      3191 non-null object\n",
      "dtypes: object(12)\n",
      "memory usage: 325.5+ KB\n"
     ]
    }
   ],
   "source": [
    "programs_merged.info()"
   ]
  },
  {
   "cell_type": "code",
   "execution_count": 26,
   "metadata": {},
   "outputs": [
    {
     "data": {
      "text/plain": [
       "(2671, 12)"
      ]
     },
     "execution_count": 26,
     "metadata": {},
     "output_type": "execute_result"
    }
   ],
   "source": [
    "# Preparing dataset with manifestos from 2019 for comparison\n",
    "# Candidates that are running from certain parties use standard manifesto, so we drop don't need them all.\n",
    "\n",
    "# In this step we exclude standard programs from dataframe\n",
    "\n",
    "programs_comparison = programs.loc[(programs['Висування'] != 'Політична партія \"ОПОЗИЦІЙНА ПЛАТФОРМА – ЗА ЖИТТЯ\"') &\n",
    "                                                                                           (programs['Висування'] != 'політична партія Всеукраїнське об’єднання \"Свобода\"') &\n",
    "                                                                                           (programs['Висування'] != 'Політична партія \"ОПОЗИЦІЙНИЙ БЛОК\"') &\n",
    "                                                                                           (programs['Висування'] != 'Політична Партія \"ПАТРІОТ\"') &\n",
    "                                                                                           (programs['Висування'] != 'ПОЛІТИЧНА ПАРТІЯ \"СИЛА І ЧЕСТЬ') &\n",
    "                                                                                           (programs['Висування'] != 'ПОЛІТИЧНА ПАРТІЯ \"УКРАЇНА СЛАВЕТНА\"') &\n",
    "                                                                                           (programs['Висування'] != 'СОЦІАЛІСТИЧНА ПАРТІЯ УКРАЇНИ') &\n",
    "                                                                                           (programs['Висування'] != 'Аграрна партія України') &\n",
    "                                                                                           (programs['Висування'] != 'ПОЛІТИЧНА ПАРТІЯ \"ДЕМОКРАТИЧНА СОКИРА\"') &\n",
    "                                                                                           (programs['Висування'] != 'ПРАВИЙ СЕКТОР') &\n",
    "                                                                                           (programs['Висування'] != 'ПОЛІТИЧНА ПАРТІЯ \"СВІДОМА НАЦІЯ\"') &\n",
    "                                                                                           (programs['Висування'] != 'Політична партія \"Народний Рух України\"') &\n",
    "                                                                                           (programs['Висування'] != 'Політична партія \"Партія місцевого самоврядування\"')]\n",
    "\n",
    "programs_comparison.shape"
   ]
  },
  {
   "cell_type": "code",
   "execution_count": 27,
   "metadata": {},
   "outputs": [
    {
     "name": "stdout",
     "output_type": "stream",
     "text": [
      "(534, 12)\n"
     ]
    }
   ],
   "source": [
    "# In this step we create a new dataframe with one example of each party's standard program\n",
    "\n",
    "programs_one = programs.loc[(programs['Висування'] == 'Політична партія \"ОПОЗИЦІЙНА ПЛАТФОРМА – ЗА ЖИТТЯ\"') |\n",
    "                                                                                           (programs['Висування'] == 'політична партія Всеукраїнське об’єднання \"Свобода\"') |\n",
    "                                                                                           (programs['Висування'] == 'Політична партія \"ОПОЗИЦІЙНИЙ БЛОК\"') |\n",
    "                                                                                           (programs['Висування'] == 'Політична Партія \"ПАТРІОТ\"') |\n",
    "                                                                                           (programs['Висування'] == 'ПОЛІТИЧНА ПАРТІЯ \"СИЛА І ЧЕСТЬ') |\n",
    "                                                                                           (programs['Висування'] == 'ПОЛІТИЧНА ПАРТІЯ \"УКРАЇНА СЛАВЕТНА\"') |\n",
    "                                                                                           (programs['Висування'] == 'СОЦІАЛІСТИЧНА ПАРТІЯ УКРАЇНИ') |\n",
    "                                                                                           (programs['Висування'] == 'Аграрна партія України') |\n",
    "                                                                                           (programs['Висування'] == 'ПОЛІТИЧНА ПАРТІЯ \"ДЕМОКРАТИЧНА СОКИРА\"') |\n",
    "                                                                                           (programs['Висування'] == 'ПРАВИЙ СЕКТОР') |\n",
    "                                                                                           (programs['Висування'] == 'ПОЛІТИЧНА ПАРТІЯ \"СВІДОМА НАЦІЯ\"') |\n",
    "                                                                                           (programs['Висування'] == 'Політична партія \"Народний Рух України\"') |\n",
    "                                                                                           (programs['Висування'] == 'Політична партія \"Партія місцевого самоврядування\"')]\n",
    "print(programs_one.shape)\n",
    "programs_one = programs_one.groupby('Висування').first().reset_index()\n",
    "\n",
    "programs_one = programs_one[['name', 'txt', 'url', 'ПІБ', 'Передвиборна програма',\n",
    "       'Основні відомості', 'Округ', 'Наявність(відсутність) заборгованості зі сплати аліментів',\n",
    "       'Дата та підстава скасування реєстрації кандидата', 'Дата реєстрації кандидатом', 'Висування', 'Область']]"
   ]
  },
  {
   "cell_type": "code",
   "execution_count": 28,
   "metadata": {},
   "outputs": [],
   "source": [
    "# then we combine them together again\n",
    "\n",
    "programs = pd.concat([programs_comparison, programs_one], ignore_index = True)"
   ]
  },
  {
   "cell_type": "code",
   "execution_count": 29,
   "metadata": {
    "scrolled": true
   },
   "outputs": [
    {
     "name": "stdout",
     "output_type": "stream",
     "text": [
      "<class 'pandas.core.frame.DataFrame'>\n",
      "RangeIndex: 2682 entries, 0 to 2681\n",
      "Data columns (total 12 columns):\n",
      "name                                                         2682 non-null object\n",
      "txt                                                          2682 non-null object\n",
      "url                                                          2682 non-null object\n",
      "ПІБ                                                          2682 non-null object\n",
      "Передвиборна програма                                        2682 non-null object\n",
      "Основні відомості                                            2682 non-null object\n",
      "Округ                                                        2682 non-null object\n",
      "Наявність(відсутність) заборгованості зі сплати аліментів    2682 non-null object\n",
      "Дата та підстава скасування реєстрації кандидата             2682 non-null object\n",
      "Дата реєстрації кандидатом                                   2682 non-null object\n",
      "Висування                                                    2682 non-null object\n",
      "Область                                                      2682 non-null object\n",
      "dtypes: object(12)\n",
      "memory usage: 251.6+ KB\n"
     ]
    }
   ],
   "source": [
    "programs.info()"
   ]
  },
  {
   "cell_type": "code",
   "execution_count": 86,
   "metadata": {},
   "outputs": [
    {
     "name": "stdout",
     "output_type": "stream",
     "text": [
      "Collecting strsim\n",
      "  Using cached https://files.pythonhosted.org/packages/0d/95/14e5dea00c3bc73e5962261442957ee3691de8d51c97909ba7b2f46bf584/strsim-0.0.3-py3-none-any.whl\n",
      "Installing collected packages: strsim\n",
      "Successfully installed strsim-0.0.3\n",
      "Note: you may need to restart the kernel to use updated packages.\n"
     ]
    }
   ],
   "source": [
    "# pip install strsim"
   ]
  },
  {
   "cell_type": "code",
   "execution_count": null,
   "metadata": {},
   "outputs": [],
   "source": [
    "# calculate n-grams distance\n",
    "\n",
    "from similarity.qgram import QGram\n",
    "from datetime import datetime\n",
    "import itertools\n",
    "\n",
    "dist_list = []\n",
    "df = []\n",
    "\n",
    "qgram = QGram(6)\n",
    "\n",
    "j = 0\n",
    "l = [(row.url, row.txt) for index, row in programs.iterrows()]\n",
    "\n",
    "for p1, p2 in itertools.combinations(l, 2):\n",
    "    \n",
    "    j += 1\n",
    "    \n",
    "    dist_dict = {}\n",
    "    \n",
    "    dist_dict['dist'] = qgram.distance(str(p1[1]).lower(),str(p2[1]).lower())\n",
    "    dist_dict['index_p1'] = p1[0]\n",
    "    dist_dict['index_p2'] = p2[0]\n",
    "    dist_dict['p1_d'] = p1[1]\n",
    "    dist_dict['p2_d'] = p2[1]\n",
    "    \n",
    "    dist_list.append(dist_dict)\n",
    "    \n",
    "    if j % 1000 == 0:\n",
    "        print(j, datetime.now())\n",
    "\n",
    "df = pd.DataFrame(dist_list)"
   ]
  },
  {
   "cell_type": "code",
   "execution_count": 128,
   "metadata": {
    "scrolled": true
   },
   "outputs": [
    {
     "data": {
      "text/plain": [
       "(3595221, 5)"
      ]
     },
     "execution_count": 128,
     "metadata": {},
     "output_type": "execute_result"
    }
   ],
   "source": [
    "df.shape"
   ]
  },
  {
   "cell_type": "code",
   "execution_count": 132,
   "metadata": {
    "scrolled": true
   },
   "outputs": [
    {
     "data": {
      "image/png": "[encoded data removed]",
      "text/plain": [
       "<Figure size 432x288 with 1 Axes>"
      ]
     },
     "metadata": {},
     "output_type": "display_data"
    }
   ],
   "source": [
    "df['dist'].plot.hist(grid=True, bins=200, rwidth=0.9,\n",
    "                   color='#607c8e', xlim=(0,10000))\n",
    "params = {'axes.titlesize':'4',\n",
    "          'xtick.labelsize':'4',\n",
    "          'ytick.labelsize':'4'}\n",
    "matplotlib.rcParams.update(params)\n",
    "plt.grid(axis='y', alpha=0.75)"
   ]
  },
  {
   "cell_type": "code",
   "execution_count": 133,
   "metadata": {},
   "outputs": [
    {
     "data": {
      "text/html": [
       "<div>\n",
       "<style scoped>\n",
       "    .dataframe tbody tr th:only-of-type {\n",
       "        vertical-align: middle;\n",
       "    }\n",
       "\n",
       "    .dataframe tbody tr th {\n",
       "        vertical-align: top;\n",
       "    }\n",
       "\n",
       "    .dataframe thead th {\n",
       "        text-align: right;\n",
       "    }\n",
       "</style>\n",
       "<table border=\"1\" class=\"dataframe\">\n",
       "  <thead>\n",
       "    <tr style=\"text-align: right;\">\n",
       "      <th></th>\n",
       "      <th>dist</th>\n",
       "      <th>index_p1</th>\n",
       "      <th>index_p2</th>\n",
       "      <th>p1_d</th>\n",
       "      <th>p2_d</th>\n",
       "    </tr>\n",
       "  </thead>\n",
       "  <tbody>\n",
       "    <tr>\n",
       "      <th>860382</th>\n",
       "      <td>0.0</td>\n",
       "      <td>https://www.cvk.gov.ua/pls/vnd2019/showdocpf72...</td>\n",
       "      <td>https://www.cvk.gov.ua/pls/vnd2019/showdocpf72...</td>\n",
       "      <td>Політична програма кандидата в наро...</td>\n",
       "      <td>Політична програма кандидата в наро...</td>\n",
       "    </tr>\n",
       "    <tr>\n",
       "      <th>178801</th>\n",
       "      <td>37.0</td>\n",
       "      <td>https://www.cvk.gov.ua/pls/vnd2019/showdocpf72...</td>\n",
       "      <td>https://www.cvk.gov.ua/pls/vnd2019/showdocpf72...</td>\n",
       "      <td>ПЕРЕДВИБОРЧА ПРОГР...</td>\n",
       "      <td>ПЕРЕДВИБОРЧА ПРОГР...</td>\n",
       "    </tr>\n",
       "    <tr>\n",
       "      <th>1921767</th>\n",
       "      <td>52.0</td>\n",
       "      <td>https://www.cvk.gov.ua/pls/vnd2019/showdocpf72...</td>\n",
       "      <td>https://www.cvk.gov.ua/pls/vnd2019/showdocpf72...</td>\n",
       "      <td>Передвиборна прогр...</td>\n",
       "      <td>Передвиборна прогр...</td>\n",
       "    </tr>\n",
       "    <tr>\n",
       "      <th>3581366</th>\n",
       "      <td>53.0</td>\n",
       "      <td>https://www.cvk.gov.ua/pls/vnd2019/showdocpf72...</td>\n",
       "      <td>https://www.cvk.gov.ua/pls/vnd2019/showdocpf72...</td>\n",
       "      <td>Пункти передвиборч...</td>\n",
       "      <td>Пункти передвиборч...</td>\n",
       "    </tr>\n",
       "    <tr>\n",
       "      <th>3208073</th>\n",
       "      <td>55.0</td>\n",
       "      <td>https://www.cvk.gov.ua/pls/vnd2019/showdocpf72...</td>\n",
       "      <td>https://www.cvk.gov.ua/pls/vnd2019/showdocpf72...</td>\n",
       "      <td>Передвиборча програма кандидата у нар...</td>\n",
       "      <td>Передвиборча програма кандидата у нар...</td>\n",
       "    </tr>\n",
       "    <tr>\n",
       "      <th>975879</th>\n",
       "      <td>61.0</td>\n",
       "      <td>https://www.cvk.gov.ua/pls/vnd2019/showdocpf72...</td>\n",
       "      <td>https://www.cvk.gov.ua/pls/vnd2019/showdocpf72...</td>\n",
       "      <td>Гаврилюк Василь Васильович  кандидат в нар...</td>\n",
       "      <td>Рибак Ю.О. кандидат в народні депутати України...</td>\n",
       "    </tr>\n",
       "    <tr>\n",
       "      <th>2774542</th>\n",
       "      <td>63.0</td>\n",
       "      <td>https://www.cvk.gov.ua/pls/vnd2019/showdocpf72...</td>\n",
       "      <td>https://www.cvk.gov.ua/pls/vnd2019/showdocpf72...</td>\n",
       "      <td>Передвиборна програма кандидата у нар...</td>\n",
       "      <td>Передвиборна програма кандидата у нар...</td>\n",
       "    </tr>\n",
       "    <tr>\n",
       "      <th>3595017</th>\n",
       "      <td>65.0</td>\n",
       "      <td>https://www.cvk.gov.ua/pls/vnd2019/showdocpf72...</td>\n",
       "      <td>https://www.cvk.gov.ua/pls/vnd2019/showdocpf72...</td>\n",
       "      <td>2\\t\\t2ПЕРЕДВИБОРНА ПРОГРАМАкандидата у народні...</td>\n",
       "      <td>2\\t\\t2ПЕРЕДВИБОРНА ПРОГРАМАкандидата у народні...</td>\n",
       "    </tr>\n",
       "    <tr>\n",
       "      <th>920372</th>\n",
       "      <td>66.0</td>\n",
       "      <td>https://www.cvk.gov.ua/pls/vnd2019/showdocpf72...</td>\n",
       "      <td>https://www.cvk.gov.ua/pls/vnd2019/showdocpf72...</td>\n",
       "      <td>Передвиборна програма кандидата у...</td>\n",
       "      <td>Передвиборна програма кандидата у...</td>\n",
       "    </tr>\n",
       "    <tr>\n",
       "      <th>2519614</th>\n",
       "      <td>66.0</td>\n",
       "      <td>https://www.cvk.gov.ua/pls/vnd2019/showdocpf72...</td>\n",
       "      <td>https://www.cvk.gov.ua/pls/vnd2019/showdocpf72...</td>\n",
       "      <td>Передвиборна прогр...</td>\n",
       "      <td>Передвиборна прогр...</td>\n",
       "    </tr>\n",
       "  </tbody>\n",
       "</table>\n",
       "</div>"
      ],
      "text/plain": [
       "         dist                                           index_p1  \\\n",
       "860382    0.0  https://www.cvk.gov.ua/pls/vnd2019/showdocpf72...   \n",
       "178801   37.0  https://www.cvk.gov.ua/pls/vnd2019/showdocpf72...   \n",
       "1921767  52.0  https://www.cvk.gov.ua/pls/vnd2019/showdocpf72...   \n",
       "3581366  53.0  https://www.cvk.gov.ua/pls/vnd2019/showdocpf72...   \n",
       "3208073  55.0  https://www.cvk.gov.ua/pls/vnd2019/showdocpf72...   \n",
       "975879   61.0  https://www.cvk.gov.ua/pls/vnd2019/showdocpf72...   \n",
       "2774542  63.0  https://www.cvk.gov.ua/pls/vnd2019/showdocpf72...   \n",
       "3595017  65.0  https://www.cvk.gov.ua/pls/vnd2019/showdocpf72...   \n",
       "920372   66.0  https://www.cvk.gov.ua/pls/vnd2019/showdocpf72...   \n",
       "2519614  66.0  https://www.cvk.gov.ua/pls/vnd2019/showdocpf72...   \n",
       "\n",
       "                                                  index_p2  \\\n",
       "860382   https://www.cvk.gov.ua/pls/vnd2019/showdocpf72...   \n",
       "178801   https://www.cvk.gov.ua/pls/vnd2019/showdocpf72...   \n",
       "1921767  https://www.cvk.gov.ua/pls/vnd2019/showdocpf72...   \n",
       "3581366  https://www.cvk.gov.ua/pls/vnd2019/showdocpf72...   \n",
       "3208073  https://www.cvk.gov.ua/pls/vnd2019/showdocpf72...   \n",
       "975879   https://www.cvk.gov.ua/pls/vnd2019/showdocpf72...   \n",
       "2774542  https://www.cvk.gov.ua/pls/vnd2019/showdocpf72...   \n",
       "3595017  https://www.cvk.gov.ua/pls/vnd2019/showdocpf72...   \n",
       "920372   https://www.cvk.gov.ua/pls/vnd2019/showdocpf72...   \n",
       "2519614  https://www.cvk.gov.ua/pls/vnd2019/showdocpf72...   \n",
       "\n",
       "                                                      p1_d  \\\n",
       "860382              Політична програма кандидата в наро...   \n",
       "178801                               ПЕРЕДВИБОРЧА ПРОГР...   \n",
       "1921767                              Передвиборна прогр...   \n",
       "3581366                              Пункти передвиборч...   \n",
       "3208073           Передвиборча програма кандидата у нар...   \n",
       "975879       Гаврилюк Василь Васильович  кандидат в нар...   \n",
       "2774542           Передвиборна програма кандидата у нар...   \n",
       "3595017  2\\t\\t2ПЕРЕДВИБОРНА ПРОГРАМАкандидата у народні...   \n",
       "920372                Передвиборна програма кандидата у...   \n",
       "2519614                              Передвиборна прогр...   \n",
       "\n",
       "                                                      p2_d  \n",
       "860382              Політична програма кандидата в наро...  \n",
       "178801                               ПЕРЕДВИБОРЧА ПРОГР...  \n",
       "1921767                              Передвиборна прогр...  \n",
       "3581366                              Пункти передвиборч...  \n",
       "3208073           Передвиборча програма кандидата у нар...  \n",
       "975879   Рибак Ю.О. кандидат в народні депутати України...  \n",
       "2774542           Передвиборна програма кандидата у нар...  \n",
       "3595017  2\\t\\t2ПЕРЕДВИБОРНА ПРОГРАМАкандидата у народні...  \n",
       "920372                Передвиборна програма кандидата у...  \n",
       "2519614                              Передвиборна прогр...  "
      ]
     },
     "execution_count": 133,
     "metadata": {},
     "output_type": "execute_result"
    }
   ],
   "source": [
    "# top 10 most similar manifestos\n",
    "df.sort_values(by = 'dist').head(10)"
   ]
  },
  {
   "cell_type": "code",
   "execution_count": 186,
   "metadata": {
    "scrolled": true
   },
   "outputs": [],
   "source": [
    "# for each program choosing corresponding pair with lowest distance\n",
    "manifestos_grams_dist = df.sort_values('dist').drop_duplicates(['index_p1'])"
   ]
  },
  {
   "cell_type": "code",
   "execution_count": 187,
   "metadata": {
    "scrolled": true
   },
   "outputs": [],
   "source": [
    "# storing in local dir\n",
    "manifestos_grams_dist[['dist', 'index_p1', 'index_p2']].to_csv('/home/olena/CHESNO/manifestos_grams_dist.csv')"
   ]
  },
  {
   "cell_type": "code",
   "execution_count": 29,
   "metadata": {},
   "outputs": [],
   "source": [
    "# manifestos_grams_dist = pd.read_csv('/home/olena/CHESNO/manifestos_grams_dist', low_memory = False)"
   ]
  },
  {
   "cell_type": "code",
   "execution_count": 73,
   "metadata": {},
   "outputs": [],
   "source": [
    "# fun for similarity ratio calculation\n",
    "\n",
    "from diff_match_patch import diff_match_patch\n",
    "\n",
    "def compute_similarity_and_diff(text1, text2):\n",
    "    dmp = diff_match_patch()\n",
    "    dmp.Diff_Timeout = 0.0\n",
    "    diff = dmp.diff_main(text1, text2, False)\n",
    "\n",
    "    # similarity\n",
    "    common_text = sum([len(txt) for op, txt in diff if op == 0])\n",
    "    text_length = max(len(text1), len(text2))\n",
    "    sim = common_text / text_length\n",
    "\n",
    "    return sim"
   ]
  },
  {
   "cell_type": "code",
   "execution_count": 75,
   "metadata": {
    "scrolled": true
   },
   "outputs": [
    {
     "name": "stdout",
     "output_type": "stream",
     "text": [
      "100 2019-07-10 12:58:20.847001\n",
      "200 2019-07-10 12:58:51.228311\n",
      "300 2019-07-10 12:59:32.025592\n",
      "400 2019-07-10 13:00:18.824071\n",
      "500 2019-07-10 13:01:17.051244\n",
      "600 2019-07-10 13:02:41.206859\n",
      "700 2019-07-10 13:04:00.362993\n",
      "800 2019-07-10 13:05:29.547378\n",
      "900 2019-07-10 13:07:01.742968\n",
      "1000 2019-07-10 13:09:08.047992\n",
      "1100 2019-07-10 13:10:45.944789\n",
      "1200 2019-07-10 13:13:05.411537\n",
      "1300 2019-07-10 13:15:49.297253\n",
      "1400 2019-07-10 13:18:23.610671\n",
      "1500 2019-07-10 13:20:45.285073\n",
      "1600 2019-07-10 13:24:00.840296\n",
      "1700 2019-07-10 13:26:47.500873\n",
      "1800 2019-07-10 13:30:25.083052\n",
      "1900 2019-07-10 13:32:29.005577\n",
      "2000 2019-07-10 13:35:20.684923\n",
      "2100 2019-07-10 13:37:58.904870\n",
      "2200 2019-07-10 13:40:33.378549\n",
      "2300 2019-07-10 13:43:03.214835\n",
      "2400 2019-07-10 13:45:46.609570\n",
      "2500 2019-07-10 13:49:11.284880\n",
      "2600 2019-07-10 13:52:24.194193\n"
     ]
    }
   ],
   "source": [
    "# calculating similarity ratio for pairs with lowest n-grams dist\n",
    "from datetime import datetime\n",
    "\n",
    "sim_list = []\n",
    "i = 0\n",
    "\n",
    "for index_p1, index_p2, p1_d, p2_d in zip(manifestos_grams_dist['index_p1'], \n",
    "                                          manifestos_grams_dist['index_p2'], \n",
    "                                          manifestos_grams_dist['p1_d'], \n",
    "                                          manifestos_grams_dist['p2_d']):\n",
    "        \n",
    "    i += 1\n",
    "        \n",
    "    sim_dict = {}\n",
    "    sim_dict['index_p1'] = index_p1\n",
    "    sim_dict['index_p2'] = index_p2\n",
    "    sim_dict['sim_ratio'] = compute_similarity_and_diff(str(p1_d).lower(),str(p2_d).lower()) # or maybe better to try Jaccard\n",
    "\n",
    "    sim_list.append(sim_dict)\n",
    "\n",
    "    if i % 100 == 0:\n",
    "        print(i, datetime.now())"
   ]
  },
  {
   "cell_type": "code",
   "execution_count": 79,
   "metadata": {
    "scrolled": true
   },
   "outputs": [],
   "source": [
    "similar_programs = pd.DataFrame(sim_list)"
   ]
  },
  {
   "cell_type": "code",
   "execution_count": 80,
   "metadata": {},
   "outputs": [
    {
     "data": {
      "text/plain": [
       "(2681, 3)"
      ]
     },
     "execution_count": 80,
     "metadata": {},
     "output_type": "execute_result"
    }
   ],
   "source": [
    "similar_programs.shape"
   ]
  },
  {
   "cell_type": "code",
   "execution_count": 33,
   "metadata": {},
   "outputs": [
    {
     "data": {
      "image/png": "[encoded data removed]",
      "text/plain": [
       "<Figure size 432x288 with 1 Axes>"
      ]
     },
     "metadata": {},
     "output_type": "display_data"
    }
   ],
   "source": [
    "# distribution of similarity ratios\n",
    "\n",
    "similar_programs['sim_ratio'].plot.hist(grid=True, bins=80, rwidth=0.9, color='#607c8e')\n",
    "params = {'axes.titlesize':'12',\n",
    "          'xtick.labelsize':'12',\n",
    "          'ytick.labelsize':'12'}\n",
    "matplotlib.rcParams.update(params)\n",
    "plt.grid(axis='y', alpha=0.75)"
   ]
  },
  {
   "cell_type": "code",
   "execution_count": 133,
   "metadata": {},
   "outputs": [],
   "source": [
    "similar_programs.to_csv('/home/olena/CHESNO/similar_programs.csv')"
   ]
  },
  {
   "cell_type": "code",
   "execution_count": 30,
   "metadata": {},
   "outputs": [],
   "source": [
    "# similar_programs = pd.read_csv('/home/olena/CHESNO/similar_programs.csv')\n",
    "# similar_programs = similar_programs.drop('Unnamed: 0', axis=1)"
   ]
  },
  {
   "cell_type": "code",
   "execution_count": 31,
   "metadata": {},
   "outputs": [
    {
     "name": "stdout",
     "output_type": "stream",
     "text": [
      "(528, 3)\n"
     ]
    },
    {
     "data": {
      "text/html": [
       "<div>\n",
       "<style scoped>\n",
       "    .dataframe tbody tr th:only-of-type {\n",
       "        vertical-align: middle;\n",
       "    }\n",
       "\n",
       "    .dataframe tbody tr th {\n",
       "        vertical-align: top;\n",
       "    }\n",
       "\n",
       "    .dataframe thead th {\n",
       "        text-align: right;\n",
       "    }\n",
       "</style>\n",
       "<table border=\"1\" class=\"dataframe\">\n",
       "  <thead>\n",
       "    <tr style=\"text-align: right;\">\n",
       "      <th></th>\n",
       "      <th>index_p1</th>\n",
       "      <th>index_p2</th>\n",
       "      <th>sim_ratio</th>\n",
       "    </tr>\n",
       "  </thead>\n",
       "  <tbody>\n",
       "    <tr>\n",
       "      <th>0</th>\n",
       "      <td>https://www.cvk.gov.ua/pls/vnd2019/showdocpf72...</td>\n",
       "      <td>https://www.cvk.gov.ua/pls/vnd2019/showdocpf72...</td>\n",
       "      <td>1.000000</td>\n",
       "    </tr>\n",
       "    <tr>\n",
       "      <th>1</th>\n",
       "      <td>https://www.cvk.gov.ua/pls/vnd2019/showdocpf72...</td>\n",
       "      <td>https://www.cvk.gov.ua/pls/vnd2019/showdocpf72...</td>\n",
       "      <td>0.997111</td>\n",
       "    </tr>\n",
       "    <tr>\n",
       "      <th>2</th>\n",
       "      <td>https://www.cvk.gov.ua/pls/vnd2019/showdocpf72...</td>\n",
       "      <td>https://www.cvk.gov.ua/pls/vnd2019/showdocpf72...</td>\n",
       "      <td>0.997370</td>\n",
       "    </tr>\n",
       "    <tr>\n",
       "      <th>3</th>\n",
       "      <td>https://www.cvk.gov.ua/pls/vnd2019/showdocpf72...</td>\n",
       "      <td>https://www.cvk.gov.ua/pls/vnd2019/showdocpf72...</td>\n",
       "      <td>0.829907</td>\n",
       "    </tr>\n",
       "    <tr>\n",
       "      <th>4</th>\n",
       "      <td>https://www.cvk.gov.ua/pls/vnd2019/showdocpf72...</td>\n",
       "      <td>https://www.cvk.gov.ua/pls/vnd2019/showdocpf72...</td>\n",
       "      <td>0.993860</td>\n",
       "    </tr>\n",
       "  </tbody>\n",
       "</table>\n",
       "</div>"
      ],
      "text/plain": [
       "                                            index_p1  \\\n",
       "0  https://www.cvk.gov.ua/pls/vnd2019/showdocpf72...   \n",
       "1  https://www.cvk.gov.ua/pls/vnd2019/showdocpf72...   \n",
       "2  https://www.cvk.gov.ua/pls/vnd2019/showdocpf72...   \n",
       "3  https://www.cvk.gov.ua/pls/vnd2019/showdocpf72...   \n",
       "4  https://www.cvk.gov.ua/pls/vnd2019/showdocpf72...   \n",
       "\n",
       "                                            index_p2  sim_ratio  \n",
       "0  https://www.cvk.gov.ua/pls/vnd2019/showdocpf72...   1.000000  \n",
       "1  https://www.cvk.gov.ua/pls/vnd2019/showdocpf72...   0.997111  \n",
       "2  https://www.cvk.gov.ua/pls/vnd2019/showdocpf72...   0.997370  \n",
       "3  https://www.cvk.gov.ua/pls/vnd2019/showdocpf72...   0.829907  \n",
       "4  https://www.cvk.gov.ua/pls/vnd2019/showdocpf72...   0.993860  "
      ]
     },
     "execution_count": 31,
     "metadata": {},
     "output_type": "execute_result"
    }
   ],
   "source": [
    "# selecting only programs with level of similarity > 50%\n",
    "similar_programs_top = similar_programs.loc[similar_programs['sim_ratio'] > 0.5]\n",
    "print(similar_programs_top.shape)\n",
    "similar_programs_top.head()"
   ]
  },
  {
   "cell_type": "code",
   "execution_count": 31,
   "metadata": {},
   "outputs": [
    {
     "data": {
      "image/png": "[encoded data removed]",
      "text/plain": [
       "<Figure size 432x288 with 1 Axes>"
      ]
     },
     "metadata": {},
     "output_type": "display_data"
    }
   ],
   "source": [
    "similar_programs['sim_ratio'].plot.hist(grid=True, bins=80, rwidth=0.9, color='#607c8e')\n",
    "plt.grid(axis='y', alpha=0.75)"
   ]
  },
  {
   "cell_type": "code",
   "execution_count": 32,
   "metadata": {
    "scrolled": true
   },
   "outputs": [],
   "source": [
    "# adding info about candidates to manifestos (using link as unique to program on website of Electoral Comission)\n",
    "\n",
    "merged_1 = pd.merge(similar_programs, programs[['name', 'url', 'Округ', 'Висування', \n",
    "                                                     'Дата реєстрації кандидатом']], how = 'left',\n",
    "                    left_on = 'index_p1', right_on = 'url')\n",
    "merged_1.columns = ['index_p1', 'index_p2', 'sim_ratio', 'name_p1', 'url_p1', 'Округ_p1', 'Висування_p1', 'p1_date']\n",
    "merged = pd.merge(merged_1, programs[['name', 'url', 'Округ', 'Висування', 'Дата реєстрації кандидатом']], \n",
    "                  how = 'left', left_on = 'index_p2', right_on = 'url')\n",
    "merged.columns = ['index_p1', 'index_p2', 'sim_ratio', 'name_p1', 'url_p1', 'Округ_p1', 'Висування_p1', 'p1_date',\n",
    "                    'name_p2', 'url_p2', 'Округ_p2', 'Висування_p2', 'p2_date']\n",
    "merged = merged[['index_p1', 'index_p2', 'sim_ratio', 'name_p1', 'Округ_p1', 'Висування_p1', 'p1_date', 'name_p2', \n",
    "                 'Округ_p2', 'Висування_p2', 'p2_date']]\n"
   ]
  },
  {
   "cell_type": "code",
   "execution_count": null,
   "metadata": {
    "scrolled": true
   },
   "outputs": [],
   "source": [
    "plagiarism_dif_parties = merged.loc[(merged['Висування_p1'] == 'Самовисування') |\n",
    "                                    (merged['Висування_p2'] == 'Самовисування') |\n",
    "                                    (merged['Висування_p1'] != merged['Висування_p2'])]\n",
    "plagiarism_diff = plagiarism_dif_parties.loc[plagiarism_dif_parties['sim_ratio'] > 0.5].sort_values(by = 'sim_ratio', ascending = False)\n",
    "plagiarism_diff"
   ]
  },
  {
   "cell_type": "code",
   "execution_count": 34,
   "metadata": {},
   "outputs": [],
   "source": [
    "plagiarism_diff.to_csv('/home/olena/CHESNO/manifestos_plagiarism.csv')"
   ]
  }
 ],
 "metadata": {
  "kernelspec": {
   "display_name": "Python 3",
   "language": "python",
   "name": "python3"
  },
  "language_info": {
   "codemirror_mode": {
    "name": "ipython",
    "version": 3
   },
   "file_extension": ".py",
   "mimetype": "text/x-python",
   "name": "python",
   "nbconvert_exporter": "python",
   "pygments_lexer": "ipython3",
   "version": "3.6.8"
  }
 },
 "nbformat": 4,
 "nbformat_minor": 2
}
